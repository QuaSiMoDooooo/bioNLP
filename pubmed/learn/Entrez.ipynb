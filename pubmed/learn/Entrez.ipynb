{
 "cells": [
  {
   "cell_type": "code",
   "execution_count": 1,
   "metadata": {},
   "outputs": [],
   "source": [
    "from Bio import Entrez"
   ]
  },
  {
   "cell_type": "code",
   "execution_count": 2,
   "metadata": {},
   "outputs": [],
   "source": [
    "Entrez.email = \"fabien012390wt@163.com\""
   ]
  },
  {
   "cell_type": "code",
   "execution_count": 5,
   "metadata": {},
   "outputs": [
    {
     "name": "stdout",
     "output_type": "stream",
     "text": [
      "['37813579', '37813567', '37813566', '37813539', '37813538', '37813530', '37813527', '37813486', '37813485', '37813484']\n"
     ]
    }
   ],
   "source": [
    "# https://laoyublog.com/zhide/4410.html\n",
    "\n",
    "# 搜索PubMed文献\n",
    "handle = Entrez.esearch(db=\"pubmed\", term=\"cancer\", retmax=10)\n",
    "record = Entrez.read(handle)\n",
    "handle.close()\n",
    "id_list = record[\"IdList\"]\n",
    "print(id_list)"
   ]
  },
  {
   "cell_type": "code",
   "execution_count": 6,
   "metadata": {},
   "outputs": [
    {
     "data": {
      "text/plain": [
       "{'Count': '4952249', 'RetMax': '10', 'RetStart': '0', 'IdList': ['37813579', '37813567', '37813566', '37813539', '37813538', '37813530', '37813527', '37813486', '37813485', '37813484'], 'TranslationSet': [{'From': 'cancer', 'To': '\"cancer\\'s\"[All Fields] OR \"cancerated\"[All Fields] OR \"canceration\"[All Fields] OR \"cancerization\"[All Fields] OR \"cancerized\"[All Fields] OR \"cancerous\"[All Fields] OR \"neoplasms\"[MeSH Terms] OR \"neoplasms\"[All Fields] OR \"cancer\"[All Fields] OR \"cancers\"[All Fields]'}], 'QueryTranslation': '\"cancer s\"[All Fields] OR \"cancerated\"[All Fields] OR \"canceration\"[All Fields] OR \"cancerization\"[All Fields] OR \"cancerized\"[All Fields] OR \"cancerous\"[All Fields] OR \"neoplasms\"[MeSH Terms] OR \"neoplasms\"[All Fields] OR \"cancer\"[All Fields] OR \"cancers\"[All Fields]'}"
      ]
     },
     "execution_count": 6,
     "metadata": {},
     "output_type": "execute_result"
    }
   ],
   "source": [
    "record"
   ]
  },
  {
   "cell_type": "code",
   "execution_count": 7,
   "metadata": {},
   "outputs": [
    {
     "data": {
      "text/plain": [
       "Bio.Entrez.Parser.DictionaryElement"
      ]
     },
     "execution_count": 7,
     "metadata": {},
     "output_type": "execute_result"
    }
   ],
   "source": [
    "type(record)"
   ]
  },
  {
   "cell_type": "code",
   "execution_count": 19,
   "metadata": {},
   "outputs": [
    {
     "name": "stdout",
     "output_type": "stream",
     "text": [
      "1. Neurology. 2023 Oct 9:10.1212/WNL.0000000000207908. doi: \n",
      "10.1212/WNL.0000000000207908. Online ahead of print.\n",
      "\n",
      "Factors Associated With Fast Early Infarct Growth in Patients With Acute \n",
      "Ischemic Stroke With A Large Vessel Occlusion.\n",
      "\n",
      "Seners P(1)(2)(3), Yuen N(4), Olivot JM(5), Mlynash M(4), Heit JJ(6), \n",
      "Christensen S(4), Escribano Paredes JB(7), Carrera E(7), Strambo D(8), Michel \n",
      "P(8), Salerno A(8), Wintermark M(9), Chen H(9), Albucher JF(5), Cognard C(10), \n",
      "Sibon I(11), Obadia M(2), Savatovsky J(11), Lansberg MG(12), Albers GW(4); for \n",
      "Mismatch Prevalence.\n",
      "\n",
      "Author information:\n",
      "(1): Stanford Stroke Center, Palo Alto, CA pierre.seners@gmail.com.\n",
      "(2): Neurology Department, Hôpital Fondation A. de Rothschild, Paris, France.\n",
      "(3): Institut de Psychiatrie et Neurosciences de Paris (IPNP), U1266, INSERM, \n",
      "Paris.\n",
      "(4): Stanford Stroke Center, Palo Alto, CA.\n",
      "(5): Acute Stroke Unit, Hôpital Pierre-Paul Riquet, CHU Toulouse and CIC 1436, \n",
      "Toulouse University, Inserm, UPS, France.\n",
      "(6): Radiology Department, Stanford University, Palo Alto, CA.\n",
      "(7): Neurology Department, Geneve University Hospital, Switzerland.\n",
      "(8): Stroke Center, Neurology Service, Lausanne University Hospital and \n",
      "University of Lausanne, Switzerland.\n",
      "(9): Neuroradiology Department, MD Anderson Cancer Center, University of Texas, \n",
      "Houston, Tx.\n",
      "(10): Neuroradiology Department, Toulouse University Hospital, France.\n",
      "(11): Stroke Unit, Bordeaux University Hospital, Bordeaux, France.\n",
      "(12): Radiology Department, Hôpital Fondation A. de Rothschild, Paris, France.\n",
      "\n",
      "BACKGROUND AND OBJECTIVES: The optimal methods for predicting early infarct \n",
      "growth rate (EIGR) in acute ischemic stroke with a large vessel occlusion (LVO) \n",
      "have not been established. We aimed to study the factors associated with EIGR, \n",
      "with a focus on the collateral circulation as assessed by the Hypoperfusion \n",
      "Intensity Ratio (HIR) on perfusion imaging, and determine whether the \n",
      "associations found are consistent across imaging modalities.\n",
      "METHODS: Retrospective multicenter international study including anterior \n",
      "circulation LVO-related acute stroke patients with witnessed stroke onset and \n",
      "baseline perfusion imaging (MRI or CT) performed within 24hrs from symptom \n",
      "onset. To avoid selection bias, patients were selected from (1) the prospective \n",
      "registries of four comprehensive stroke centers with systematic use of perfusion \n",
      "imaging and including both thrombectomy-treated and untreated patients, and (2) \n",
      "one prospective thrombectomy study where perfusion imaging was acquired per \n",
      "protocol but treatment decisions were made blinded to the results. EIGR was \n",
      "defined as infarct volume on baseline imaging divided by onset-to-imaging time, \n",
      "and fast progressors as EIGR ≥10mL/hr. The HIR, defined as the proportion of \n",
      "Tmax>6s with Tmax>10s volume, was measured on perfusion imaging using RAPID \n",
      "software. The factors independently associated with fast progression were \n",
      "studied using multivariable logistic regression models, with separate analyses \n",
      "for CT- and MRI-assessed patients.\n",
      "RESULTS: Overall, 1127 patients were included (CT, n=471; MRI, n=656). Median \n",
      "age was 74 years (IQR, 62-83), 52% were male, median NIHSS was 16 (IQR, 9-21), \n",
      "median HIR was 0.42 (IQR, 0.26-0.58) and 415 (37%) were fast progressors. The \n",
      "HIR was the primary factor associated with fast progression, with very similar \n",
      "results across imaging modalities: the proportion of fast progressors was 4% in \n",
      "the first HIR quartile (i.e. excellent collaterals), ∼15% in the second, ∼50% in \n",
      "the third, and ∼77% in the fourth (P<0.001 for each imaging modality). Fast \n",
      "progression was independently associated with poor 3-month functional outcome in \n",
      "both the CT and MRI cohorts (P<0.001 and P=0.030, respectively).\n",
      "DISCUSSION: The HIR is the primary factor associated with fast infarct \n",
      "progression, regardless of imaging modality. These results have implication for \n",
      "neuroprotection trial design, as well as informing triage decisions at primary \n",
      "stroke centers.\n",
      "\n",
      "Copyright © 2023 American Academy of Neurology. Unauthorized reproduction of \n",
      "this article is prohibited.\n",
      "\n",
      "DOI: 10.1212/WNL.0000000000207908\n",
      "PMID: 37813579\n"
     ]
    }
   ],
   "source": [
    "# 一旦您获得了感兴趣的文献的ID列表，就可以使用Entrez库来下载这些文献的摘要或全文。\n",
    "\n",
    "# 摘要\n",
    "handle = Entrez.efetch(db=\"pubmed\", id=\"37813579\", rettype=\"abstract\", retmode=\"text\")\n",
    "abstract = handle.read()\n",
    "handle.close()\n",
    "print(abstract)"
   ]
  },
  {
   "cell_type": "code",
   "execution_count": 18,
   "metadata": {},
   "outputs": [
    {
     "name": "stdout",
     "output_type": "stream",
     "text": [
      "\n"
     ]
    }
   ],
   "source": [
    "# 全文\n",
    "handle = Entrez.efetch(db=\"pubmed\", id=\"37813579\", rettype=\"full\", retmode=\"text\")\n",
    "full_text = handle.read()\n",
    "handle.close()\n",
    "print(full_text)\n",
    "\n",
    "# 暂时还无法获得全文"
   ]
  },
  {
   "cell_type": "code",
   "execution_count": null,
   "metadata": {},
   "outputs": [],
   "source": []
  }
 ],
 "metadata": {
  "kernelspec": {
   "display_name": "base",
   "language": "python",
   "name": "python3"
  },
  "language_info": {
   "codemirror_mode": {
    "name": "ipython",
    "version": 3
   },
   "file_extension": ".py",
   "mimetype": "text/x-python",
   "name": "python",
   "nbconvert_exporter": "python",
   "pygments_lexer": "ipython3",
   "version": "3.9.12"
  },
  "orig_nbformat": 4
 },
 "nbformat": 4,
 "nbformat_minor": 2
}
